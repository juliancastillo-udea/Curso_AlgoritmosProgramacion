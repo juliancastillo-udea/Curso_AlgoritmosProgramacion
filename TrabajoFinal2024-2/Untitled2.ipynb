{
  "nbformat": 4,
  "nbformat_minor": 0,
  "metadata": {
    "colab": {
      "provenance": []
    },
    "kernelspec": {
      "name": "python3",
      "display_name": "Python 3"
    },
    "language_info": {
      "name": "python"
    }
  },
  "cells": [
    {
      "cell_type": "code",
      "execution_count": 1,
      "metadata": {
        "id": "G5OBOXmRJBHt"
      },
      "outputs": [],
      "source": [
        "usuarios = {}"
      ]
    },
    {
      "cell_type": "code",
      "source": [
        "print('Favor registrar un usuario')\n",
        "cedula = input('Registrar su documento: ')\n",
        "nombre = input('Registrar su nombre: ')\n",
        "cita = input('Registrar su cita medica: ')\n",
        "usuarios[cedula] = [nombre, cita]\n",
        "print(usuarios)"
      ],
      "metadata": {
        "colab": {
          "base_uri": "https://localhost:8080/"
        },
        "id": "l0eYCpBMJF3q",
        "outputId": "6b0069ef-31ae-46ae-d698-87da1de6f319"
      },
      "execution_count": 2,
      "outputs": [
        {
          "output_type": "stream",
          "name": "stdout",
          "text": [
            "Favor registrar un usuario\n",
            "Registrar su documento: 123\n",
            "Registrar su nombre: Julian\n",
            "Registrar su cita medica: Martes 8am\n",
            "{'123': ['Julian', 'Martes 8am']}\n"
          ]
        }
      ]
    },
    {
      "cell_type": "code",
      "source": [
        "docbuscar = input('Ingresar el documento a buscar: ')\n",
        "if docbuscar in list(usuarios.keys()):\n",
        "    print('El usuario se encuentra registrado y con citas')\n",
        "    vercitas = input('Desea ver las citas, 1 para cancelar marca 2, 3 para salir')\n",
        "    if vercitas == '1':\n",
        "        print(usuarios[docbuscar][1])\n",
        "    elif vercitas == '2':\n",
        "        del usuarios[docbuscar]\n",
        "    else:\n",
        "        print('chao')\n",
        "else:\n",
        "    print('Usuario no existe')"
      ],
      "metadata": {
        "colab": {
          "base_uri": "https://localhost:8080/"
        },
        "id": "W7IUtuwMJiGX",
        "outputId": "c31ae93b-e207-4ce5-b9be-f36c1eb16204"
      },
      "execution_count": 4,
      "outputs": [
        {
          "output_type": "stream",
          "name": "stdout",
          "text": [
            "Ingresar el documento a buscar: 123\n",
            "El usuario se encuentra registrado y con citas\n",
            "Desea ver las citas, 1 para ver, otro valor para salir1\n",
            "Martes 8am\n"
          ]
        }
      ]
    },
    {
      "cell_type": "code",
      "source": [],
      "metadata": {
        "id": "he4PfiHNLc_P"
      },
      "execution_count": null,
      "outputs": []
    }
  ]
}