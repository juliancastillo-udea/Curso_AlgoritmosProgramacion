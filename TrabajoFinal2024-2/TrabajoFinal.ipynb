{
  "nbformat": 4,
  "nbformat_minor": 0,
  "metadata": {
    "colab": {
      "provenance": []
    },
    "kernelspec": {
      "name": "python3",
      "display_name": "Python 3"
    },
    "language_info": {
      "name": "python"
    }
  },
  "cells": [
    {
      "cell_type": "markdown",
      "source": [
        "<div align=\"center\">\n",
        "<table>\n",
        "    <thead>\n",
        "        <tr>\n",
        "            <td rowspan=\"3\">\n",
        "                <img alt=\"UdeA\" height=\"200px\" src=\"https://raw.githubusercontent.com/juliancastillo-udea/2024-1-ProgramacionPosgrados/main/images/Escudo-UdeA.svg\" hspace=\"10px\" vspace=\"0px\">\n",
        "            </td>\n",
        "            <td align=\"center\">\n",
        "                <h1><b>Programación y Algoritmia</b></h1>\n",
        "            </td>\n",
        "            <td rowspan=\"3\">\n",
        "                <img alt=\"II\" height=\"200px\" src=\"https://upload.wikimedia.org/wikipedia/commons/thumb/b/b9/Ingenier%C3%ADa_Industrial_UdeA.png/1026px-Ingenier%C3%ADa_Industrial_UdeA.png\" hspace=\"0px\" vspace=\"0px\">\n",
        "            </td>\n",
        "        </tr>\n",
        "        <tr>\n",
        "            <td>\n",
        "                <h1><b>Trabajo Final</b></h1>\n",
        "            </td>\n",
        "        </tr>\n",
        "        <tr>\n",
        "            <td>\n",
        "                <img align=\"center\" alt=\"I&S\" height=\"135px\" src=\"https://raw.githubusercontent.com/juliancastillo-udea/2024-1-ProgramacionPosgrados/main/images/IS.png\" hspace=\"10px\" vspace=\"0px\">\n",
        "            </td>\n",
        "        </tr>\n",
        "    </thead>\n",
        "</table>\n",
        "\n",
        "</div>\n",
        "\n",
        "<hr size=10 noshade color=\"green\">\n",
        "<p>\n",
        "<img alt=\"CC\" height=\"70px\" src=\"https://raw.githubusercontent.com/juliancastillo-udea/2024-1-ProgramacionPosgrados/main/images/by.xlarge.png\" align=\"left\" hspace=\"0px\" vspace=\"0px\">\n",
        "<img alt=\"Attribution\" height=\"70px\" src=\"https://raw.githubusercontent.com/juliancastillo-udea/2024-1-ProgramacionPosgrados/main/images/nc.xlarge.png\" align=\"left\" hspace=\"0px\" vspace=\"0px\">\n",
        "<img alt=\"NC\" height=\"70px\" src=\"https://raw.githubusercontent.com/juliancastillo-udea/2024-1-ProgramacionPosgrados/main/images/sa.xlarge.png\" align=\"left\" hspace=\"0px\" vspace=\"0px\">\n",
        "<img alt=\"SA\" height=\"70px\" src=\"https://raw.githubusercontent.com/juliancastillo-udea/2024-1-ProgramacionPosgrados/main/images/cc-icons.png\" align=\"left\" hspace=\"0px\" vspace=\"0px\">\n",
        "</p>\n",
        "\n",
        "<div align=\"right\">\n",
        "<h2> <b> Por: Julián Andrés Castillo G. </b> </h2>\n",
        "<a href=\"mailto:jandres.castillo@udea.edu.co\"> ✉ Julian Andres Castillo Grisales </a>\n",
        "<h2> <b> Por: Yony Fernando Ceballos. </b> </h2>\n",
        "<a href=\"mailto:yony.ceballos@udea.edu.co\"> ✉ Yony Fernando Ceballos </a>\n",
        "</div>\n",
        "\n",
        "<br>"
      ],
      "metadata": {
        "id": "qfSoaEeaXHO3"
      }
    },
    {
      "cell_type": "markdown",
      "source": [
        "# **Descripción del problema a solucionar -Software gestión turnos**\n",
        "\n",
        "La EPS PailaSalud está interesada en crear un programa para la gestión de turnos y atenciones debido a que actualmente el procedimiento se realiza manualmente en donde los pacientes deben estar sentados y esperando el servicio, sin ningún tipo de atención preferencial o clasificada. Este procedimiento afecta el rendimiento del servicio y afecta el desempeño de la atención.\n",
        "\n",
        "Para solucionar este problema los estudiantes en grupos de máximo tres integrantes, deberán crear un programa que se encargue de gestionar las personas que llegan a la EPS, producto de las citas programadas que dispone el servicio de la EPS. El software debe encargarse tanto de su llegada como de su recorrido por el sistema. El listado de las personas será proporcionado por un programa creado por la EPS (el docente entrega este programa para su uso) en un repositorio de GitHub sobre el cual los estudiantes deben hacer un clon del repositorio y continuar con su proyecto desde este punto de partida.\n",
        "\n"
      ],
      "metadata": {
        "id": "zev9oB-CXbL3"
      }
    },
    {
      "cell_type": "markdown",
      "source": [
        "# **El software de la EPS para las citas**\n",
        "\n",
        "La EPS Paila Salud, tiene un sistema de asignación de citas el cual recibe la solicitud de cita de los pacientes y registra su día, horario, tipo de cita, médico y la información personal del paciente. Este listado será proporcionado por una función del repositorio inicial."
      ],
      "metadata": {
        "id": "49ZjyxMjXh7h"
      }
    },
    {
      "cell_type": "markdown",
      "source": [
        "# **Objetivo**\n",
        "\n",
        "Crear un programa de consola visualmente amigable al usuario, en donde permita gestionar la atención de los pacientes y registrar los datos en un dataframe , para posteriormente exportar la atención en un archivo plano (CSV) usando Python y la gestión de dos documentos. Uno proporcionado por el repositorio inicial y otro creado por el estudiante para entregar una carpeta con los listados de pacientes.\n"
      ],
      "metadata": {
        "id": "H63p8cp-Xmon"
      }
    },
    {
      "cell_type": "markdown",
      "source": [
        "# **Reglas**\n",
        "\n",
        "## Actas de entendimiento y compromiso.\n",
        "\n",
        "Los integrantes del grupo deben definir su participación y responsabilidad mediante actas de entendimiento. Estas se describen a continuación:\n",
        "*   ### Objetivo de entendimiento y compromiso\n",
        ">Este procedimiento tiene como objetivo establecer las normas y directrices para la creación de actas de entendimiento, colaboración y responsabilidad en trabajos grupales académicos. Busca promover un ambiente de trabajo colaborativo y respetuoso, asegurando que todos los miembros del grupo comprendan y acuerden sus roles y responsabilidades.\n",
        "\n",
        "*   ### Alcance\n",
        ">Este procedimiento aplica a todos los estudiantes vinculados a un equipo para la entrega del trabajo final.\n",
        ">*  #### Definiciones (Entregables)\n",
        ">>*   Acta de Entendimiento: Documento que detalla los objetivos comunes del grupo y las expectativas de cada miembro respecto al proyecto.\n",
        ">>*   Acta de Colaboración: Documento que especifica las metodologías de trabajo en equipo, incluyendo estrategias de comunicación y resolución de conflictos.\n",
        ">>*   Acta de Responsabilidad: Documento que asigna tareas específicas a cada miembro del grupo, estableciendo plazos y criterios de evaluación.\n",
        "Procedimientos (Entregables)\n",
        ">>*   Convocatoria de Reunión: El grupo deberá convocar a una reunión inicial para discutir los objetivos del proyecto y elaborar el Acta de Entendimiento.\n",
        ">>*   Elaboración del Acta de Entendimiento: Durante la reunión, los miembros del grupo discutirán y acordarán los objetivos y expectativas del proyecto. Esta acta será redactada por un miembro designado y luego revisada y firmada por todos los integrantes.\n",
        ">>*   Elaboración del Acta de Colaboración: Posteriormente, se redactará el Acta de Colaboración, donde se definirán las normas de trabajo en equipo, incluyendo los canales y frecuencia de comunicación.\n",
        ">>*   Asignación de Responsabilidades: Finalmente, se creará el Acta de Responsabilidad, detallando las tareas específicas de cada miembro, así como los plazos de entrega. Cada miembro del grupo deberá firmar este documento, aceptando sus responsabilidades.\n",
        ">*  #### Seguimiento y Evaluación (Entregables)\n",
        ">>*   Reuniones de Seguimiento: El grupo deberá realizar reuniones periódicas para evaluar el progreso del proyecto y hacer ajustes necesarios en las actas.\n",
        ">>*   Revisión de Actas: Las actas pueden ser revisadas y modificadas con el consentimiento de todos los miembros del grupo, según sea necesario para reflejar cambios en el proyecto o en la dinámica del equipo.\n",
        ">*  #### Resolución de Conflictos\n",
        ">>*   En caso de desacuerdos o conflictos, el grupo deberá referirse al Acta de Colaboración para resolver la situación mediante los mecanismos previamente acordados. Si no se llega a una resolución, se consultará con el del curso para mediación.\n"
      ],
      "metadata": {
        "id": "0KtZjQXBXpzn"
      }
    },
    {
      "cell_type": "markdown",
      "source": [
        "# **Entregables**\n",
        "\n",
        "El entregable debe ser realizado en un repositorio de GitHub y debidamente organizado con todos los elementos de Markdown necesarios para establecer una jerarquía como un documento escrito.\n",
        "El repositorio debe tener lo siguientes procesos debidamente reportados.\n"
      ],
      "metadata": {
        "id": "R0O9QcDTmfx9"
      }
    },
    {
      "cell_type": "markdown",
      "source": [
        "## **1.   Integrantes**\n",
        "En el repositorio del proyecto debe existir un archivo README.md en donde con Markdown detalle los nombres de los integrantes y una breve descripción.\n"
      ],
      "metadata": {
        "id": "EysLb7j8wpvW"
      }
    },
    {
      "cell_type": "markdown",
      "source": [
        "`Ingresar los integrantes aquí`"
      ],
      "metadata": {
        "id": "Fva4lC_6w4ZF"
      }
    },
    {
      "cell_type": "markdown",
      "source": [
        "## **2.\tVínculos académicos y descripción**\n",
        "\n",
        "Todos los integrantes deben registrar el programa al cual pertenece, una descripción con habilidades y fortalezas de cada uno."
      ],
      "metadata": {
        "id": "xBbwgPVSwpoO"
      }
    },
    {
      "cell_type": "markdown",
      "source": [
        "`Registrar los vínculos académicos y descripcion de cada uno aquí`"
      ],
      "metadata": {
        "id": "xz5YjwlZxK16"
      }
    },
    {
      "cell_type": "markdown",
      "source": [
        "## **3.\tNombre del proyecto y detalles**\n",
        "\n",
        "Describir el proyecto en pocas líneas y asignarle un nombre con una foto representativa del nombre del proyecto (no es una foto de los integrantes)."
      ],
      "metadata": {
        "id": "-mxU3eJNwpgW"
      }
    },
    {
      "cell_type": "markdown",
      "source": [
        "`Ingresar el nombre del proyecto aquí`\n",
        "\n"
      ],
      "metadata": {
        "id": "FCFGyukPxlaq"
      }
    },
    {
      "cell_type": "markdown",
      "source": [
        "## **4.\tLicencia del software**\n",
        "\n",
        "Definir la licencia con la cual registra el software. https://chooser-beta.creativecommons.org/\n"
      ],
      "metadata": {
        "id": "loCsllP8wpXr"
      }
    },
    {
      "cell_type": "markdown",
      "source": [
        "`Ingresar la licencia a utilizar aquí`"
      ],
      "metadata": {
        "id": "WGj2_iqLxyxV"
      }
    },
    {
      "cell_type": "markdown",
      "source": [
        "## **5.\tReporte de visión**\n",
        "\n",
        "Proporciona una descripción general del software, sus objetivos y beneficios."
      ],
      "metadata": {
        "id": "yVE3CWxkwpMv"
      }
    },
    {
      "cell_type": "markdown",
      "source": [
        "`Ingresar el reporte de visión aquí`"
      ],
      "metadata": {
        "id": "FB2lYzHey2bu"
      }
    },
    {
      "cell_type": "markdown",
      "source": [
        "## **6.\tEspecificación de requisitos**\n",
        "\n",
        "Describe los requisitos funcionales y no funcionales del software.\n",
        "*   Los requisitos funcionales definen las acciones específicas, comportamientos, y operaciones que el software debe ejecutar para satisfacer las necesidades del usuario final.\n",
        "*   Los requisitos no funcionales especifican criterios que pueden usarse para juzgar la operación del sistema, más allá de los comportamientos específicos. Esto incluye aspectos como el rendimiento, seguridad, usabilidad, fiabilidad, y compatibilidad."
      ],
      "metadata": {
        "id": "VJ3GmDo-wo_d"
      }
    },
    {
      "cell_type": "markdown",
      "source": [
        "`Ingresar la especificación de requisitos aquí`"
      ],
      "metadata": {
        "id": "ZTPd3hVozDEN"
      }
    },
    {
      "cell_type": "markdown",
      "source": [
        "## **7.\tPlan de proyecto**\n",
        "\n",
        "Describe las actividades, el cronograma (Diagrama de Gantt) y el presupuesto del proyecto.\n",
        "*   El presupuesto debe tener en cuenta que no se pagará en dinero sino en tiempo de práctica de formación. Es decir, si el grupo del trabajo final lo componen tres estudiantes e invierten un total de 50 horas, estas serán pagadas a valor de práctica profesional. 1 SMLV."
      ],
      "metadata": {
        "id": "XkIqCeiMwowV"
      }
    },
    {
      "cell_type": "markdown",
      "source": [
        "`Ingresar el plan del proyecto aquí`"
      ],
      "metadata": {
        "id": "1mFItgO9zdrX"
      }
    },
    {
      "cell_type": "code",
      "source": [
        "# @markdown ### Usar el código a continuación para crear el diagrama de Gantt por Usuario\n",
        "import plotly.express as px\n",
        "import pandas as pd\n",
        "df = pd.DataFrame([\n",
        "    dict(Tarea=\"Tarea 1\", FechaInicio='2024-08-01', FechaFin='2024-08-15', Responsable=\"Bruce Wayne\"),\n",
        "    dict(Tarea=\"Tarea 2\", FechaInicio='2024-08-16', FechaFin='2024-08-30', Responsable=\"Clark Kent\"),\n",
        "    dict(Tarea=\"Tarea 3\", FechaInicio='2024-09-01', FechaFin='2024-09-15', Responsable=\"Clark Kent\"),\n",
        "    dict(Tarea=\"Tarea 4\", FechaInicio='2024-09-16', FechaFin='2024-09-30', Responsable=\"Bruce Wayne\"),\n",
        "    dict(Tarea=\"Tarea 5\", FechaInicio='2024-10-01', FechaFin='2024-10-15', Responsable=\"Clark Kent\"),\n",
        "    dict(Tarea=\"Tarea 6\", FechaInicio='2024-10-16', FechaFin='2024-10-30', Responsable=\"Wonder Woman\"),\n",
        "    dict(Tarea=\"Tarea 7\", FechaInicio='2024-11-01', FechaFin='2024-11-15', Responsable=\"Bruce Wayne\"),\n",
        "    dict(Tarea=\"Tarea 8\", FechaInicio='2024-11-16', FechaFin='2024-11-30', Responsable=\"Wonder Woman\")\n",
        "])\n",
        "fig = px.timeline(df, x_start=\"FechaInicio\", x_end=\"FechaFin\", y=\"Responsable\", color=\"Responsable\")\n",
        "fig.show()"
      ],
      "metadata": {
        "cellView": "form",
        "id": "gGpnsn7lztxj"
      },
      "execution_count": null,
      "outputs": []
    },
    {
      "cell_type": "code",
      "source": [
        "# @markdown ### Usar el código a continuación para crear el diagrama de Gantt por Tarea\n",
        "df = pd.DataFrame([\n",
        "    dict(Tarea=\"Tarea 1\", FechaInicio='2024-08-01', FechaFin='2024-08-15', Responsable='Batman'),\n",
        "    dict(Tarea=\"Tarea 2\", FechaInicio='2024-08-01', FechaFin='2024-08-30', Responsable='Superman'),\n",
        "    dict(Tarea=\"Tarea 3\", FechaInicio='2024-09-01', FechaFin='2024-09-15', Responsable='Batman'),\n",
        "    dict(Tarea=\"Tarea 4\", FechaInicio='2024-09-16', FechaFin='2024-09-30', Responsable='WonderWoman'),\n",
        "    dict(Tarea=\"Tarea 5\", FechaInicio='2024-10-01', FechaFin='2024-10-15', Responsable='Batman'),\n",
        "    dict(Tarea=\"Tarea 6\", FechaInicio='2024-10-01', FechaFin='2024-10-30', Responsable='WonderWoman'),\n",
        "    dict(Tarea=\"Tarea 7\", FechaInicio='2024-11-01', FechaFin='2024-11-15', Responsable='WonderWoman'),\n",
        "    dict(Tarea=\"Tarea 8\", FechaInicio='2024-11-16', FechaFin='2024-11-30', Responsable='Superman')\n",
        "])\n",
        "df = df.sort_values(by='Tarea')\n",
        "fig = px.timeline(\n",
        "    df,\n",
        "    x_start=\"FechaInicio\",\n",
        "    x_end=\"FechaFin\",\n",
        "    y=\"Tarea\",\n",
        "    color='Responsable',\n",
        "    category_orders={'Tarea': sorted(df['Tarea'].tolist(), reverse=True)}  # Ordenar las tareas alfabéticamente\n",
        ")\n",
        "fig.update_yaxes(autorange=\"reversed\")\n",
        "fig.show()"
      ],
      "metadata": {
        "cellView": "form",
        "id": "AHLtQ8806HDY"
      },
      "execution_count": null,
      "outputs": []
    },
    {
      "cell_type": "markdown",
      "source": [
        "## **8.\tVersionado del software**\n",
        "\n",
        "Describe las versiones del software y su avance cada que se realice un procedimiento relevante en días desde el inicio hasta la entrega final.\n"
      ],
      "metadata": {
        "id": "Fm4EFbBg0WF6"
      }
    },
    {
      "cell_type": "markdown",
      "source": [
        "`Ingresar el plan del versionado aquí`"
      ],
      "metadata": {
        "id": "kqxTwdUJ0WF7"
      }
    },
    {
      "cell_type": "markdown",
      "source": [
        "## **9.\tAlgoritmo**\n",
        "\n",
        "Una carpeta en el repositorio en GitHub con todos los archivos y código utilizados en el proyecto."
      ],
      "metadata": {
        "id": "Bxrlgm9t0V4j"
      }
    },
    {
      "cell_type": "markdown",
      "source": [
        "`Describir el algoritmo aquí`"
      ],
      "metadata": {
        "id": "GSjovjiB0V4j"
      }
    },
    {
      "cell_type": "markdown",
      "source": [
        "## **10.\tManual de usuario**\n",
        "\n",
        "Una carpeta en el repositorio en GitHub registrar el manual de uso del programa."
      ],
      "metadata": {
        "id": "lAag2d6K0VoQ"
      }
    },
    {
      "cell_type": "markdown",
      "source": [
        "`Escribir el manual de usuario aquí`"
      ],
      "metadata": {
        "id": "XdbZV4Si0VoR"
      }
    },
    {
      "cell_type": "markdown",
      "source": [
        "# **GitHub**\n",
        "El líder del equipo debe crear una cuenta en GitHub y cargar los documentos previamente detallados en la entrega vincular a los compañeros en un repositorio compartido (Lo necesario para cargar en GitHub será explicado en clase).\n"
      ],
      "metadata": {
        "id": "eVWcv4rXqLdO"
      }
    },
    {
      "cell_type": "markdown",
      "source": [
        "## **Fechas y documentos**\n",
        "*   Entrega 1: Para la primera entrega se debe enviar los puntos 1 a 7 --> Semana 8 (29 de septiembre).\n",
        "*   Entrega 2: Todo lo descrito en el presente documento. --> Semana 16"
      ],
      "metadata": {
        "id": "7-MpJs3z08NB"
      }
    },
    {
      "cell_type": "markdown",
      "source": [
        "---"
      ],
      "metadata": {
        "id": "gwpjtodnsYle"
      }
    },
    {
      "cell_type": "markdown",
      "source": [
        "# **Solución**"
      ],
      "metadata": {
        "id": "6G8INPEBsZpZ"
      }
    },
    {
      "cell_type": "markdown",
      "source": [
        "## **Librerías necesarias**"
      ],
      "metadata": {
        "id": "UlgLgWl91k28"
      }
    },
    {
      "cell_type": "code",
      "source": [
        "# @markdown ## **Ejecutar esta celda (►)**\n",
        "# @markdown\n",
        "# @markdown Doble clic en mí y podrás ver mi código.\n",
        "# =====================================================================================================================\n",
        "# REGION: Congiguración de la consola\n",
        "# =====================================================================================================================\n",
        "from rich.console import Console\n",
        "from rich.theme import Theme\n",
        "from rich.progress import Progress\n",
        "TemaAnalisisDatos = Theme({\n",
        "    \"info\": \"bold navy_blue on grey82\",\n",
        "    \"url\": \"underline blue\",\n",
        "    \"warning\": \"dark_orange\",\n",
        "    \"danger\": \"bold red\",\n",
        "    \"normalb\": \"bold black\",\n",
        "    \"normal\": \"black\"\n",
        "}, inherit=False)\n",
        "console = Console(theme=TemaAnalisisDatos)\n",
        "# =====================================================================================================================\n",
        "# REGION: Librerías\n",
        "# =====================================================================================================================\n",
        "with console.status(\"Cargando Librerías\", spinner=\"clock\"):\n",
        "    import os\n",
        "    import random as rnd\n",
        "    import pandas as pd\n",
        "    import time\n",
        "    import logging\n",
        "    import tqdm\n",
        "    import rich\n",
        "    import numpy as np\n",
        "    import matplotlib.pyplot as plt\n",
        "    import statistics as st\n",
        "    import math as mt\n",
        "    # from google.colab import drive\n",
        "    import sys\n",
        "    import datetime\n",
        "    import time\n",
        "    from tqdm import tqdm\n",
        "    #import ace_tools as tools\n",
        "    from collections import Counter\n",
        "    inicio = time.time()\n",
        "    import warnings\n",
        "    # Ignorar todos los warnings\n",
        "    warnings.filterwarnings(\"ignore\")\n",
        "# =====================================================================================================================\n",
        "# REGION: Librerías\n",
        "# =====================================================================================================================\n",
        "console.print(\"Librerías cargadas satisfactoriamente\", style=\"info\")"
      ],
      "metadata": {
        "id": "_umdG6GjTUeG",
        "cellView": "form"
      },
      "execution_count": null,
      "outputs": []
    },
    {
      "cell_type": "markdown",
      "source": [
        "## **Funciones utilizadas en la configuración inicial**"
      ],
      "metadata": {
        "id": "lEJ9fiW61obh"
      }
    },
    {
      "cell_type": "code",
      "source": [
        "# @markdown ## **Ejecutar esta celda (►)**\n",
        "# @markdown\n",
        "# @markdown Doble clic en mí y podrás ver mi código.\n",
        "# =====================================================================================================================\n",
        "# REGION: Funciones Útiles para Taller Proyecto Integrador\n",
        "# NOTA: Las funciones fueron comentadas con GitHub Copilot\n",
        "# =====================================================================================================================\n",
        "def GenerarNombre(Nombres: list, Apellidos: list) -> str:\n",
        "    \"\"\"\n",
        "    Genera un nombre completo seleccionando aleatoriamente un nombre y un apellido de las listas proporcionadas.\n",
        "\n",
        "    Args:\n",
        "        Nombres (list): Lista de nombres posibles.\n",
        "        Apellidos (list): Lista de apellidos posibles.\n",
        "\n",
        "    Returns:\n",
        "        str: Un nombre completo en el formato 'Nombre Apellido'.\n",
        "    \"\"\"\n",
        "    Nombre = rnd.choice(Nombres)\n",
        "    Apellido = rnd.choice(Apellidos)\n",
        "    return f'{Nombre} {Apellido}'\n",
        "\n",
        "def GenerarEdad() -> int:\n",
        "    \"\"\"\n",
        "    Genera una edad aleatoria basada en probabilidades predefinidas.\n",
        "\n",
        "    Returns:\n",
        "        int: Una edad aleatoria en uno de los siguientes rangos:\n",
        "             - 16 a 25 años (50% de probabilidad)\n",
        "             - 26 a 33 años (25% de probabilidad)\n",
        "             - 34 a 40 años (15% de probabilidad)\n",
        "             - 41 a 105 años (10% de probabilidad)\n",
        "    \"\"\"\n",
        "    r = rnd.random()\n",
        "    if r < 0.5:\n",
        "        return rnd.randint(16, 25)\n",
        "    elif r < 0.75:\n",
        "        return rnd.randint(26, 33)\n",
        "    elif r < 0.9:\n",
        "        return rnd.randint(34, 40)\n",
        "    else:\n",
        "        return rnd.randint(41, 105)\n",
        "\n",
        "def GenerarHoraAtencion_Lista() -> list:\n",
        "    \"\"\"\n",
        "    Genera una lista de posibles horas de atención en intervalos de 20 minutos.\n",
        "\n",
        "    Returns:\n",
        "        list: Una lista de listas, donde cada sublista contiene una hora y un minuto en el formato [hora, minuto].\n",
        "              Las horas van de 7 a 18 (inclusive) y los minutos pueden ser 0, 20 o 40.\n",
        "    \"\"\"\n",
        "    horas = [x for x in range(7,19)]\n",
        "    minutos = [0,20,40]\n",
        "    citas_list = []\n",
        "    for hora in horas:\n",
        "        for minuto in minutos:\n",
        "            citas_list.append([hora,minuto])\n",
        "    return citas_list\n",
        "\n",
        "def GenerarHoraAtencion_str() -> list:\n",
        "    \"\"\"\n",
        "    Genera una lista de posibles horas de atención en formato de cadena.\n",
        "\n",
        "    Returns:\n",
        "        list: Una lista de cadenas, donde cada cadena representa una hora de atención en el formato \"HH:MM\".\n",
        "              Las horas van de 7 a 18 (inclusive) y los minutos pueden ser 0, 20 o 40.\n",
        "    \"\"\"\n",
        "    horas = [x for x in range(7,19)]\n",
        "    minutos = [0,20,40]\n",
        "    citas_list = []\n",
        "    citas_str = []\n",
        "    for hora in horas:\n",
        "        for minuto in minutos:\n",
        "            citas_list.append([hora,minuto])\n",
        "    for hora, minuto in citas_list:\n",
        "        citas_str.append(datetime.time(hora, minuto).strftime(\"%H:%M\"))\n",
        "    return citas_str\n",
        "\n",
        "def SiguienteSemana():\n",
        "    \"\"\"\n",
        "    Calcula las fechas de la próxima semana (de lunes a domingo) a partir de la fecha actual.\n",
        "\n",
        "    Returns:\n",
        "        list: Una lista de cadenas, donde cada cadena representa una fecha de la próxima semana en el formato \"YYYY-MM-DD\".\n",
        "    \"\"\"\n",
        "    hoy = datetime.date.today()\n",
        "    dia_semana = hoy.weekday()\n",
        "    diferencia = (0 - dia_semana) % 7\n",
        "    # Sumamos la diferencia a la fecha actual\n",
        "    semana = []\n",
        "    semana.append(str(hoy + datetime.timedelta(days=diferencia)))\n",
        "    for i in range(1,7):\n",
        "        semana.append(str(hoy + datetime.timedelta(days=diferencia+i)))\n",
        "    return semana"
      ],
      "metadata": {
        "id": "EQkrRUXTT4VZ",
        "cellView": "form"
      },
      "execution_count": null,
      "outputs": []
    },
    {
      "cell_type": "markdown",
      "source": [
        "## **Gestión de datos, log de eventos, creación de dataframe y exportar**"
      ],
      "metadata": {
        "id": "3WF-uTVasg3A"
      }
    },
    {
      "cell_type": "code",
      "execution_count": null,
      "metadata": {
        "id": "e5NJEwVDOYte"
      },
      "outputs": [],
      "source": [
        "# =====================================================================================================================\n",
        "# REGION: Log\n",
        "# =====================================================================================================================\n",
        "console.print(f'{\"Inicio del proceso\"}', style=\"info\")\n",
        "console.print(f'\\t{\"Log\"}', style=\"danger\")\n",
        "inicio = time.time() #Inicio contador de ejecucion\n",
        "hoy = datetime.date.today().strftime('%Y%m%d') #Captura de fecha de ejecucion\n",
        "nombre_archivo_log = f\"log_{hoy}.log\" # Inicializacion del log\n",
        "#Configuracion de almacenamiento y niveles del log\n",
        "logging.basicConfig(filename=nombre_archivo_log, level=logging.INFO,\n",
        "                    format='%(asctime)s - %(name)s - %(levelname)s - %(message)s')\n",
        "#Primer registro del log\n",
        "logging.info(f\"Iniciando el proceso del log __{hoy}__ \")\n",
        "# =====================================================================================================================\n",
        "# REGION: Ubicacion y registro de archivos\n",
        "# =====================================================================================================================\n",
        "#Creamos el directorio (carpeta) en donde se crearan los archivos\n",
        "console.print(f'\\t{\"Ubicacion y registro de archivos\"}', style=\"danger\")\n",
        "DirectorioActual = os.getcwd() #Directorio actual de trabajo\n",
        "textemp = f'El directorio actual de trabajo es: \\n\\t--> {DirectorioActual}, \\nEsta carpeta contendrá los archivos del trabajo final'\n",
        "logging.info(textemp) #Registro del directorio actual\n",
        "#Creamos una carpeta donde almacenamos los resultados\n",
        "CarpetaNueva = \"CarpetaArchivosTrabajoFinal\"\n",
        "os.makedirs(CarpetaNueva, exist_ok=True) #Creamos la carpeta si no existe\n",
        "logging.info(\"Se crea el directorio {}\".format(CarpetaNueva)) #Registro de la creacion de la carpeta\n",
        "# Nombre de la carpeta donde se crearán los archivos\n",
        "carpeta = os.path.join(DirectorioActual, \"CarpetaArchivosTrabajoFinal\") #Ruta de la carpeta\n",
        "logging.info(\"La ruta de trabajo será {}\".format(carpeta)) #Registro de la ruta de trabajo\n",
        "#Usamos los datos de GitHub con nombres y apellidos para leerlos.\n",
        "RutaNombres = r'https://raw.githubusercontent.com/juliancastillo-udea/AlDiSi/main/Data/NombresArgentina.csv'\n",
        "RutaApellidos = r'https://raw.githubusercontent.com/juliancastillo-udea/AlDiSi/main/Data/ApellidosArgentina.csv'\n",
        "# =====================================================================================================================\n",
        "# REGION: Creando datos genericos\n",
        "# =====================================================================================================================\n",
        "console.print(f'\\t{\"Creando datos genericos\"}', style=\"danger\")\n",
        "logging.info(\"Cargando CSV con nombres\")\n",
        "dfNombres = pd.read_csv(RutaNombres, encoding='ISO-8859-1')\n",
        "Nombres = dfNombres['name'].tolist()\n",
        "logging.info(\"Reemplazando nombres y detalles del documento\")\n",
        "for i in tqdm(range(len(Nombres)), '\\tProcesando nombres'):\n",
        "    if ' ' in Nombres[i]:\n",
        "        Nombres[i]=Nombres[i].replace(' ', '_')\n",
        "logging.info(\"Cargando CSV con apellidos\")\n",
        "dfApellidos = pd.read_csv(RutaApellidos, encoding='ISO-8859-1')\n",
        "Apellidos = dfApellidos['lastname'].tolist()\n",
        "logging.info(\"Reemplazando apellidos y detalles del documento\")\n",
        "for i in tqdm(range(len(Apellidos)), '\\tProcesando apellidos'):\n",
        "    if ' ' in Apellidos[i]:\n",
        "        Apellidos[i]=Apellidos[i].replace(' ', '_')\n",
        "logging.info(\"Finalizado proceso de gestion de nombres y apellidos\")\n",
        "# endregion Gestion de archivos y ubicaciones\n",
        "logging.info(\"Creando secuencia de citas\")\n",
        "horarioatencion = GenerarHoraAtencion_str()\n",
        "semana = SiguienteSemana()\n",
        "citas = []\n",
        "for dia in semana:\n",
        "    for cita in horarioatencion:\n",
        "        citas.append(dia+'|'+cita)\n",
        "# =====================================================================================================================\n",
        "# REGION: Creacion del dataframe\n",
        "# =====================================================================================================================\n",
        "console.print(f'\\t{\"Creacion del dataframe\"}', style=\"danger\")\n",
        "logging.info(\"Creando DataFrame con datos de citas y personas\")\n",
        "df = pd.DataFrame(columns=['Nombre', 'Edad', 'Fecha', 'CitaAtencion'])\n",
        "for cita in citas:\n",
        "    nombre = GenerarNombre(Nombres, Apellidos).upper()\n",
        "    edad = GenerarEdad()\n",
        "    fecha = datetime.date.today().strftime('%Y-%m-%d')\n",
        "    atencion = cita\n",
        "    vector = [nombre, edad, fecha, atencion]\n",
        "    df.loc[len(df)] = vector\n",
        "logging.info(\"finalizado proceso de creacion de dataframe\")\n",
        "fin = time.time()\n",
        "delta = fin-inicio\n",
        "console.print(f'\\t{\"Fin dataframe\"}', style=\"danger\")\n",
        "minutos, segundos = divmod(delta, 60)\n",
        "\n",
        "console.print(f'\\tTiempo de ejecucion: {int(minutos)} minutos y {segundos:.2f} segundos', style=\"url\")\n",
        "logging.info(\"Exportar DataFrame a Excel y CSV\")\n",
        "df.to_excel(os.path.join(carpeta,'Citas.xlsx'))\n",
        "df.to_csv(os.path.join(carpeta,'Citas.csv'))\n",
        "logging.info(\"Finalizado\")\n",
        "console.print(f'{\"Fin del proceso\"}', style=\"info\")\n",
        "# =====================================================================================================================\n",
        "# REGION: Fin\n",
        "# ====================================================================================================================="
      ]
    }
  ]
}